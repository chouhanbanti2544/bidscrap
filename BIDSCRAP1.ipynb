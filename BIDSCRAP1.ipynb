{
 "cells": [
  {
   "cell_type": "code",
   "execution_count": 1,
   "id": "5a5efb18",
   "metadata": {},
   "outputs": [
    {
     "name": "stderr",
     "output_type": "stream",
     "text": [
      "[WDM] - Downloading: 100%|████████████████████████████████████████████████████████| 6.78M/6.78M [00:02<00:00, 2.91MB/s]\n"
     ]
    }
   ],
   "source": [
    "from selenium import webdriver\n",
    "from webdriver_manager.chrome import ChromeDriverManager\n",
    "from selenium.webdriver.chrome.service import Service\n",
    "ser = Service(ChromeDriverManager().install())\n",
    "from selenium.webdriver.support.select import Select\n",
    "from selenium.webdriver.common.by import By\n",
    "from time import sleep\n",
    "import json"
   ]
  },
  {
   "cell_type": "code",
   "execution_count": 2,
   "id": "c58a7a35",
   "metadata": {},
   "outputs": [],
   "source": [
    "driver = webdriver.Chrome(service=ser)\n",
    "\n",
    "driver.maximize_window()\n",
    "\n",
    "\n",
    "\n",
    "url = 'https://qcpi.questcdn.com/cdn/posting/?group=1950787&provider=1950787'\n",
    "\n",
    "driver.get(url)\n",
    "driver.implicitly_wait(5)\n",
    "sleep(2)\n",
    "\n",
    "bid_req = driver.find_element(By.XPATH,\"//tbody/tr/td[4]\")\n",
    "bid_req.click()\n",
    "sleep(3)\n",
    "\n",
    "BID_Details = []   \n",
    "\n",
    "for i in range(1,11):\n",
    "    Estv= []\n",
    "    Est = driver.find_elements(By.XPATH,'/html/body/div[2]/div[2]/div[2]/div/div[4]/div[1]/div[4]/div[2]/div/div/div[2]/div/table/tbody/tr[3]/td[2]')\n",
    "    for j in Est:\n",
    "        Estv.append(j.text)  \n",
    "    sleep(2)\n",
    "\n",
    "    \n",
    "    DES = []\n",
    "    descheck = driver.find_elements(By.XPATH,'//*[@id=\"current_project\"]/div/div[3]/div/table/tbody/tr[2]/td[1]')\n",
    "    for l in descheck:\n",
    "        if l.text =='Description:':\n",
    "            pro_det = driver.find_elements(By.XPATH,'//*[@id=\"current_project\"]/div/div[3]/div/table/tbody/tr[2]/td[2]')\n",
    "            for pro in pro_det:\n",
    "                DES.append(pro.text)\n",
    "                \n",
    "        else:\n",
    "            pro_det1 = driver.find_elements(By.XPATH,'/html[1]/body[1]/div[2]/div[2]/div[2]/div[1]/div[4]/div[1]/div[4]/div[2]/div[1]/div[1]/div[3]/div[1]/table[1]/tbody[1]/tr[3]/td[2]')\n",
    "            for k in pro_det1:\n",
    "                DES.append(k.text)\n",
    "                \n",
    "        \n",
    "        \n",
    "\n",
    "    \n",
    "    Close = []\n",
    "    Closing_Date = driver.find_elements(By.XPATH,'/html/body/div[2]/div[2]/div[2]/div/div[4]/div[1]/div[4]/div[2]/div/div/div[2]/div/table/tbody/tr[1]/td[2]')\n",
    "    for m in Closing_Date:\n",
    "        Close.append(m.text)\n",
    "        \n",
    "        \n",
    "    for no in range(len(Estv)):\n",
    "        values = {\n",
    "            'Est.value':Estv[no],\n",
    "            'Description':DES[no],\n",
    "            'Closing_Dates':Close[no]\n",
    "        }\n",
    "        BID_Details.append(values)\n",
    "    with open('scrapingBID.json','w') as f:\n",
    "        json.dump(BID_Details,f)\n",
    "\n",
    "\n",
    "        \n",
    "    #Next page\n",
    "    driver.find_element(By.XPATH,'//button[@id=\"id_prevnext_next\"]/b').click()\n",
    "    \n",
    "    sleep(2)\n",
    "    \n",
    "\n",
    " "
   ]
  },
  {
   "cell_type": "code",
   "execution_count": null,
   "id": "81186382",
   "metadata": {},
   "outputs": [],
   "source": []
  }
 ],
 "metadata": {
  "kernelspec": {
   "display_name": "Python 3 (ipykernel)",
   "language": "python",
   "name": "python3"
  },
  "language_info": {
   "codemirror_mode": {
    "name": "ipython",
    "version": 3
   },
   "file_extension": ".py",
   "mimetype": "text/x-python",
   "name": "python",
   "nbconvert_exporter": "python",
   "pygments_lexer": "ipython3",
   "version": "3.10.7"
  }
 },
 "nbformat": 4,
 "nbformat_minor": 5
}
